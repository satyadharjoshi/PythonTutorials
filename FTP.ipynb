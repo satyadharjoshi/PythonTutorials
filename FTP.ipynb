{
 "cells": [
  {
   "cell_type": "code",
   "execution_count": 5,
   "metadata": {},
   "outputs": [],
   "source": [
    "import ftplib\n",
    "import os\n",
    "\n",
    "server = 'ftp.ezyro.com'\n",
    "username = 'ezyro_20587209'\n",
    "password = 'shivganjoshi'\n",
    "myFTP = ftplib.FTP(server, username, password)\n",
    "myPath = r'c:\\temp'\n",
    "def uploadThis(path):\n",
    "    files = os.listdir(path)\n",
    "    os.chdir(path)\n",
    "    for f in files:\n",
    "        if os.path.isfile(path + r'\\{}'.format(f)):\n",
    "            fh = open(f, 'rb')\n",
    "            myFTP.storbinary('STOR %s' % f, fh)\n",
    "            fh.close()\n",
    "        elif os.path.isdir(path + r'\\{}'.format(f)):\n",
    "            myFTP.mkd(f)\n",
    "            myFTP.cwd(f)\n",
    "            uploadThis(path + r'\\{}'.format(f))\n",
    "    myFTP.cwd('..')\n",
    "    os.chdir('..')\n",
    "uploadThis(myPath) # now call the recursive function   "
   ]
  },
  {
   "cell_type": "code",
   "execution_count": 11,
   "metadata": {},
   "outputs": [
    {
     "data": {
      "text/plain": [
       "'221-Goodbye. You uploaded 14 and downloaded 0 kbytes.\\n221 Logout.'"
      ]
     },
     "execution_count": 11,
     "metadata": {},
     "output_type": "execute_result"
    }
   ],
   "source": [
    "import ftplib\n",
    "session = ftplib.FTP('ftp.ezyro.com','ezyro_20587209','shivganjoshi')\n",
    "file = open('C:/TEMP/dfBrazil_Ann.pdf','rb')                  # file to send\n",
    "session.storbinary('STOR '+'dfBrazil_Ann.pdf', file)     # send the file\n",
    "file.close()                                    # close file and FTP\n",
    "session.quit()"
   ]
  },
  {
   "cell_type": "code",
   "execution_count": 10,
   "metadata": {},
   "outputs": [],
   "source": [
    "import ftplib\n",
    "session = ftplib.FTP('ftp.ezyro.com','ezyro_20587209','shivganjoshi')\n",
    "file = open('C:/TEMP/dfBrazil_Ann.pdf','rb')    "
   ]
  },
  {
   "cell_type": "code",
   "execution_count": 12,
   "metadata": {
    "collapsed": true
   },
   "outputs": [],
   "source": [
    "import ftplib\n",
    " \n",
    "server = 'ftp.ezyro.com'\n",
    "username = 'ezyro_20587209'\n",
    "password = 'shivganjoshi'\n",
    "ftp_connection = ftplib.FTP(server, username, password)\n",
    "remote_path = \"/htdocs/\"\n",
    "ftp_connection.cwd(remote_path)\n",
    "fh = open(\"C:/TEMP/dfBrazil_Ann.pdf\", 'rb')\n",
    "ftp_connection.storbinary('STOR dfBrazil_Ann.pdf', fh)\n",
    "fh.close()"
   ]
  },
  {
   "cell_type": "code",
   "execution_count": null,
   "metadata": {
    "collapsed": true
   },
   "outputs": [],
   "source": []
  }
 ],
 "metadata": {
  "kernelspec": {
   "display_name": "Python 3",
   "language": "python",
   "name": "python3"
  },
  "language_info": {
   "codemirror_mode": {
    "name": "ipython",
    "version": 3
   },
   "file_extension": ".py",
   "mimetype": "text/x-python",
   "name": "python",
   "nbconvert_exporter": "python",
   "pygments_lexer": "ipython3",
   "version": "3.6.1"
  }
 },
 "nbformat": 4,
 "nbformat_minor": 2
}
