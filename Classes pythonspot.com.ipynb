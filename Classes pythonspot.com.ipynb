{
 "cells": [
  {
   "cell_type": "code",
   "execution_count": null,
   "metadata": {
    "collapsed": true
   },
   "outputs": [],
   "source": []
  },
  {
   "cell_type": "code",
   "execution_count": null,
   "metadata": {
    "collapsed": true
   },
   "outputs": [],
   "source": [
    "https://pythonspot.com/en/objects-and-classes/"
   ]
  },
  {
   "cell_type": "code",
   "execution_count": 3,
   "metadata": {},
   "outputs": [
    {
     "name": "stdout",
     "output_type": "stream",
     "text": [
      "Hello, my name is James\n",
      "Hello, my name is David\n"
     ]
    }
   ],
   "source": [
    "class User:\n",
    "    name = \"\"\n",
    " \n",
    "    def __init__(self, name):\n",
    "        self.name = name\n",
    " \n",
    "    def sayHello(self):\n",
    "        print (\"Hello, my name is \" + self.name)\n",
    " \n",
    "# create virtual objects\n",
    "james = User(\"James\")\n",
    "david = User(\"David\")\n",
    "eric = User(\"Eric\")\n",
    " \n",
    "# call methods owned by virtual objects\n",
    "james.sayHello()\n",
    "david.sayHello()"
   ]
  },
  {
   "cell_type": "code",
   "execution_count": 4,
   "metadata": {
    "collapsed": true
   },
   "outputs": [],
   "source": [
    " def addBean(self):\n",
    "        self.bean = self.bean + 1\n",
    " \n",
    " def removeBean(self):\n",
    "        self.bean = self.bean - 1"
   ]
  },
  {
   "cell_type": "code",
   "execution_count": 7,
   "metadata": {},
   "outputs": [
    {
     "name": "stdout",
     "output_type": "stream",
     "text": [
      "Name  = Python Bean\n",
      "Beans = 83\n",
      "Water = 20\n",
      "\n",
      "Name  = Python Bean\n",
      "Beans = 84\n",
      "Water = 20\n"
     ]
    }
   ],
   "source": [
    "class CoffeeMachine:\n",
    "    name = \"\"\n",
    "    beans = 0\n",
    "    water = 0\n",
    " \n",
    "    def __init__(self, name, beans, water):\n",
    "        self.name = name\n",
    "        self.beans = beans\n",
    "        self.water = water\n",
    " \n",
    "    def addBean(self):\n",
    "        self.beans = self.beans + 1\n",
    " \n",
    "    def removeBean(self):\n",
    "        self.beans = self.beans - 1\n",
    " \n",
    "    def addWater(self):\n",
    "        self.water = self.water + 1\n",
    " \n",
    "    def removeWater(self):\n",
    "        self.water = self.water - 1\n",
    " \n",
    "    def printState(self):\n",
    "        print (\"Name  = \" + self.name)\n",
    "        print (\"Beans = \" + str(self.beans))\n",
    "        print (\"Water = \" + str(self.water))\n",
    " \n",
    "pythonBean = CoffeeMachine(\"Python Bean\", 83, 20)\n",
    "pythonBean.printState()\n",
    "print (\"\")\n",
    "pythonBean.addBean()\n",
    "pythonBean.printState()"
   ]
  },
  {
   "cell_type": "code",
   "execution_count": 8,
   "metadata": {},
   "outputs": [
    {
     "ename": "SyntaxError",
     "evalue": "invalid syntax (<ipython-input-8-34c20670141d>, line 1)",
     "output_type": "error",
     "traceback": [
      "\u001b[1;36m  File \u001b[1;32m\"<ipython-input-8-34c20670141d>\"\u001b[1;36m, line \u001b[1;32m1\u001b[0m\n\u001b[1;33m    Name  = Python Bean\u001b[0m\n\u001b[1;37m                      ^\u001b[0m\n\u001b[1;31mSyntaxError\u001b[0m\u001b[1;31m:\u001b[0m invalid syntax\n"
     ]
    }
   ],
   "source": []
  },
  {
   "cell_type": "code",
   "execution_count": null,
   "metadata": {
    "collapsed": true
   },
   "outputs": [],
   "source": []
  }
 ],
 "metadata": {
  "kernelspec": {
   "display_name": "Python 3",
   "language": "python",
   "name": "python3"
  },
  "language_info": {
   "codemirror_mode": {
    "name": "ipython",
    "version": 3
   },
   "file_extension": ".py",
   "mimetype": "text/x-python",
   "name": "python",
   "nbconvert_exporter": "python",
   "pygments_lexer": "ipython3",
   "version": "3.6.1"
  }
 },
 "nbformat": 4,
 "nbformat_minor": 2
}
