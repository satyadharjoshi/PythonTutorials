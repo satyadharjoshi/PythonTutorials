{
 "cells": [
  {
   "cell_type": "code",
   "execution_count": 1,
   "metadata": {
    "collapsed": true
   },
   "outputs": [],
   "source": [
    "import hashlib as hasher\n",
    "import hashlib\n",
    "\n",
    "\n",
    "class Block:\n",
    "    def __init__(self, index, timestamp, data, previous_hash):\n",
    "        self.index = index\n",
    "        self.timestamp = timestamp\n",
    "        self.data = data\n",
    "        self.previous_hash = previous_hash\n",
    "        self.hash = self.hash_block()\n",
    "  \n",
    "    def hash_block(self):\n",
    "        sha = hasher.sha256()\n",
    "        sha.update(str(self.index).encode('utf-8') + \n",
    "                   str(self.timestamp).encode('utf-8') + \n",
    "                   str(self.data).encode('utf-8') + \n",
    "                   #hash.update(('%s%s' % (password_salt, password)).encode('utf-8'))\n",
    "                   str(self.previous_hash).encode('utf-8'))\n",
    "        return sha.hexdigest()\n",
    "    \n",
    "\n"
   ]
  },
  {
   "cell_type": "code",
   "execution_count": 2,
   "metadata": {
    "collapsed": true
   },
   "outputs": [],
   "source": [
    "\n",
    "import datetime as date\n",
    "\n",
    "def create_genesis_block():\n",
    "    # Manually construct a block with\n",
    "    # index zero and arbitrary previous hash\n",
    "    return Block(0, date.datetime.now(), \"Genesis Block\", \"0\")"
   ]
  },
  {
   "cell_type": "code",
   "execution_count": 3,
   "metadata": {},
   "outputs": [
    {
     "data": {
      "text/plain": [
       "<__main__.Block at 0x2da4c88eb8>"
      ]
     },
     "execution_count": 3,
     "metadata": {},
     "output_type": "execute_result"
    }
   ],
   "source": [
    "create_genesis_block()"
   ]
  },
  {
   "cell_type": "code",
   "execution_count": 4,
   "metadata": {
    "collapsed": true
   },
   "outputs": [],
   "source": [
    "\n",
    "def next_block(last_block):\n",
    "    this_index = last_block.index + 1\n",
    "    this_timestamp = date.datetime.now()\n",
    "    this_data = \"Hey! I'm block \" + str(this_index)\n",
    "    this_hash = last_block.hash\n",
    "    return Block(this_index, this_timestamp, this_data, this_hash)"
   ]
  },
  {
   "cell_type": "code",
   "execution_count": 5,
   "metadata": {
    "collapsed": true
   },
   "outputs": [],
   "source": [
    "\n",
    "def next_block(last_block):\n",
    "    this_index = last_block.index + 1\n",
    "    this_timestamp = date.datetime.now()\n",
    "    this_data = \"Hey! I'm block \" + str(this_index)\n",
    "    this_hash = last_block.hash\n",
    "    return Block(this_index, this_timestamp, this_data, this_hash)"
   ]
  },
  {
   "cell_type": "code",
   "execution_count": 6,
   "metadata": {},
   "outputs": [
    {
     "name": "stdout",
     "output_type": "stream",
     "text": [
      "Block #1 has been added to the blockchain!\n",
      "Hash: 44a0640b6cef7c4770b49cc48d616592f2e58c8f06779e79bbd79e12feb3591d\n",
      "\n",
      "Block #2 has been added to the blockchain!\n",
      "Hash: ca4899df1aed30bdbe8acb83686bb7c4a06a90b1169ead84a0fdbe782835aa11\n",
      "\n",
      "Block #3 has been added to the blockchain!\n",
      "Hash: 8b166d08b1fc79312f7b5cd6f60016e4e3ec53c5f9be0b4027c26e2a1c90ad3a\n",
      "\n",
      "Block #4 has been added to the blockchain!\n",
      "Hash: 1b58f9f6cc44d79d9a2342694af1776f46a4af457d896b370864d9d5ef7a9840\n",
      "\n",
      "Block #5 has been added to the blockchain!\n",
      "Hash: 85eb9d61765ac644bd9772d3368f426885c5e775a369d30fcad219c9162154d5\n",
      "\n",
      "Block #6 has been added to the blockchain!\n",
      "Hash: 8e1fc490bbc05ff438116a1ac44d37cdb7f4ea6ba810b05a73d5d58778e6a4bc\n",
      "\n",
      "Block #7 has been added to the blockchain!\n",
      "Hash: 41b9ee6530cae4266f1ae59bb8af3f78227dba7b908d571ef568878620fd0a18\n",
      "\n",
      "Block #8 has been added to the blockchain!\n",
      "Hash: fe5043867fa452d3b3f6c4be69d2c9213fb65a71ad572a93c8d2f57361ea5225\n",
      "\n",
      "Block #9 has been added to the blockchain!\n",
      "Hash: c1164e883d1d0d8fbb8b83db93c656c7480eee938f073e43c32fb4814be2c8f5\n",
      "\n",
      "Block #10 has been added to the blockchain!\n",
      "Hash: 673eaa6425a3a04f6b4aa6030cd65238be1ec2d1c3ef5ab1a98a0a0eded89d6e\n",
      "\n",
      "Block #11 has been added to the blockchain!\n",
      "Hash: 017e0db17ae7618dbd6da9e840f914a029d613c41a1e857b16459d64f1428e7f\n",
      "\n",
      "Block #12 has been added to the blockchain!\n",
      "Hash: 78eb3e3df77f8385db4b93a1bb23551018ea5bf352dc13a63736b543b4cbf643\n",
      "\n",
      "Block #13 has been added to the blockchain!\n",
      "Hash: 936d3ac3a2db9bf0c1660e6a266198a82475cb8438d54b86d234b475704b78f2\n",
      "\n",
      "Block #14 has been added to the blockchain!\n",
      "Hash: 72ea5f68ca65995ed8ca8b26376443fb9dead9561b71fc5aa4b9806bff6114b8\n",
      "\n",
      "Block #15 has been added to the blockchain!\n",
      "Hash: 869d77dc8e1debd60e984a2438fb0dec82a3091890a9b9999845bcd725e46f85\n",
      "\n",
      "Block #16 has been added to the blockchain!\n",
      "Hash: 2af94a26b7351079fe4ded3b187016a3b9bb0c8caa27a4becc070c97505e0122\n",
      "\n",
      "Block #17 has been added to the blockchain!\n",
      "Hash: 34612c62389a03a54a41f4b7c51aa84e3f2b0fb06f1770709d1666606978e3ba\n",
      "\n",
      "Block #18 has been added to the blockchain!\n",
      "Hash: 4db93264800b57c1132bacaf17d036291a6153ced45ad38709e9141be438fd5d\n",
      "\n",
      "Block #19 has been added to the blockchain!\n",
      "Hash: db03682a13f21a2db9689858120df8044f0fbd3fddc47de7d081dec90b100b74\n",
      "\n",
      "Block #20 has been added to the blockchain!\n",
      "Hash: 72506f0540f6f2932e687af9c5581a47e4cbc99865f6686ed054a85aa629e226\n",
      "\n"
     ]
    }
   ],
   "source": [
    "\n",
    "# Create the blockchain and add the genesis block\n",
    "blockchain = [create_genesis_block()]\n",
    "previous_block = blockchain[0]\n",
    "\n",
    "# How many blocks should we add to the chain\n",
    "# after the genesis block\n",
    "num_of_blocks_to_add = 20\n",
    "\n",
    "# Add blocks to the chain\n",
    "for i in range(0, num_of_blocks_to_add):\n",
    "    block_to_add = next_block(previous_block)\n",
    "    blockchain.append(block_to_add)\n",
    "    previous_block = block_to_add\n",
    "    # Tell everyone about it!\n",
    "    print (\"Block #{} has been added to the blockchain!\".format(block_to_add.index))\n",
    "    print (\"Hash: {}\\n\".format(block_to_add.hash)) "
   ]
  },
  {
   "cell_type": "code",
   "execution_count": 20,
   "metadata": {},
   "outputs": [
    {
     "data": {
      "text/plain": [
       "\"Hey! I'm block 1\""
      ]
     },
     "execution_count": 20,
     "metadata": {},
     "output_type": "execute_result"
    }
   ],
   "source": [
    "blockchain[1].data"
   ]
  },
  {
   "cell_type": "code",
   "execution_count": null,
   "metadata": {
    "collapsed": true
   },
   "outputs": [],
   "source": []
  },
  {
   "cell_type": "code",
   "execution_count": 7,
   "metadata": {},
   "outputs": [
    {
     "data": {
      "text/plain": [
       "{'amount': 3,\n",
       " 'from': '71238uqirbfh894-random-public-key-a-alkjdflakjfewn204ij',\n",
       " 'to': '93j4ivnqiopvh43-random-public-key-b-qjrgvnoeirbnferinfo'}"
      ]
     },
     "execution_count": 7,
     "metadata": {},
     "output_type": "execute_result"
    }
   ],
   "source": [
    "\n",
    "\n",
    "{\n",
    "  \"from\": \"71238uqirbfh894-random-public-key-a-alkjdflakjfewn204ij\",\n",
    "  \"to\": \"93j4ivnqiopvh43-random-public-key-b-qjrgvnoeirbnferinfo\",\n",
    "  \"amount\": 3\n",
    "}"
   ]
  },
  {
   "cell_type": "code",
   "execution_count": 14,
   "metadata": {},
   "outputs": [
    {
     "name": "stderr",
     "output_type": "stream",
     "text": [
      " * Running on http://127.0.0.1:5000/ (Press CTRL+C to quit)\n",
      "127.0.0.1 - - [03/Feb/2018 00:02:37] \"GET / HTTP/1.1\" 404 -\n",
      "127.0.0.1 - - [03/Feb/2018 00:02:52] \"GET /txion HTTP/1.1\" 405 -\n",
      "127.0.0.1 - - [03/Feb/2018 00:03:15] \"GET / HTTP/1.1\" 404 -\n",
      "127.0.0.1 - - [03/Feb/2018 00:06:54] \"GET / HTTP/1.1\" 404 -\n",
      "127.0.0.1 - - [03/Feb/2018 00:07:05] \"GET /txion HTTP/1.1\" 405 -\n",
      "127.0.0.1 - - [03/Feb/2018 00:07:18] \"GET /txion HTTP/1.1\" 405 -\n"
     ]
    }
   ],
   "source": [
    "from flask import Flask\n",
    "from flask import request\n",
    "node = Flask(__name__)\n",
    "\n",
    "# Store the transactions that\n",
    "# this node has in a list\n",
    "this_nodes_transactions = []\n",
    "\n",
    "@node.route('/txion', methods=['POST'])\n",
    "#@node.route('/txion', methods=['POST'])\n",
    "def transaction():\n",
    "    if request.method == 'POST':\n",
    "        # On each new POST request,\n",
    "        # we extract the transaction data\n",
    "        #new_txion = request.get_json()\n",
    "        # Then we add the transaction to our list\n",
    "        #this_nodes_transactions.append(new_txion)\n",
    "        # Because the transaction was successfully\n",
    "        # submitted, we log it to our console\n",
    "        print (\"New transaction\")\n",
    "        print (\"FROM: {}\".format(new_txion['from']))\n",
    "        print (\"TO: {}\".format(new_txion['to']))\n",
    "        print (\"AMOUNT: {}\\n\".format(new_txion['amount']))\n",
    "        # Then we let the client know it worked out\n",
    "        return (\"Transaction submission successful\\n\")\n",
    "\n",
    "node.run()"
   ]
  },
  {
   "cell_type": "code",
   "execution_count": 13,
   "metadata": {},
   "outputs": [],
   "source": [
    "from flask import Flask\n",
    "from flask import request\n",
    "node = Flask(__name__)\n",
    "\n",
    "@node.route('/')\n",
    "def hello_world():\n",
    "    return 'hello world!'"
   ]
  },
  {
   "cell_type": "code",
   "execution_count": 21,
   "metadata": {
    "collapsed": true
   },
   "outputs": [],
   "source": [
    "# ...blockchain\n",
    "# ...Block class definition\n",
    "\n",
    "miner_address = \"q3nf394hjg-random-miner-address-34nf3i4nflkn3oi\"\n",
    "\n",
    "def proof_of_work(last_proof):\n",
    "    # Create a variable that we will use to find\n",
    "    # our next proof of work\n",
    "    incrementor = last_proof + 1\n",
    "    # Keep incrementing the incrementor until\n",
    "    # it's equal to a number divisible by 9\n",
    "    # and the proof of work of the previous\n",
    "    # block in the chain\n",
    "    while not (incrementor % 9 == 0 and incrementor % last_proof == 0):\n",
    "        incrementor += 1\n",
    "    # Once that number is found,\n",
    "    # we can return it as a proof\n",
    "    # of our work\n",
    "    return incrementor\n",
    "\n",
    "@node.route('/mine', methods = ['GET'])\n",
    "def mine():\n",
    "    # Get the last proof of work\n",
    "    last_block = blockchain[len(blockchain) - 1]\n",
    "    last_proof = last_block.data['proof-of-work']\n",
    "    # Find the proof of work for\n",
    "    # the current block being mined\n",
    "    # Note: The program will hang here until a new\n",
    "    #       proof of work is found\n",
    "    proof = proof_of_work(last_proof)\n",
    "    # Once we find a valid proof of work,\n",
    "    # we know we can mine a block so \n",
    "    # we reward the miner by adding a transaction\n",
    "    this_nodes_transactions.append(\n",
    "    { \"from\": \"network\", \"to\": miner_address, \"amount\": 1 }\n",
    "    )\n",
    "    # Now we can gather the data needed\n",
    "    # to create the new block\n",
    "    new_block_data = {\n",
    "    \"proof-of-work\": proof,\n",
    "    \"transactions\": list(this_nodes_transactions)\n",
    "    }\n",
    "    new_block_index = last_block.index + 1\n",
    "    new_block_timestamp = this_timestamp = date.datetime.now()\n",
    "    last_block_hash = last_block.hash\n",
    "    # Empty transaction list\n",
    "    this_nodes_transactions[:] = []\n",
    "    # Now create the\n",
    "    # new block!\n",
    "    mined_block = Block(\n",
    "    new_block_index,\n",
    "    new_block_timestamp,\n",
    "    new_block_data,\n",
    "    last_block_hash\n",
    "    )\n",
    "    blockchain.append(mined_block)\n",
    "    # Let the client know we mined a block\n",
    "    return json.dumps({\n",
    "          \"index\": new_block_index,\n",
    "          \"timestamp\": str(new_block_timestamp),\n",
    "          \"data\": new_block_data,\n",
    "          \"hash\": last_block_hash\n",
    "        }) + \"\\n\""
   ]
  },
  {
   "cell_type": "code",
   "execution_count": null,
   "metadata": {
    "collapsed": true
   },
   "outputs": [],
   "source": []
  },
  {
   "cell_type": "code",
   "execution_count": 15,
   "metadata": {
    "collapsed": true
   },
   "outputs": [],
   "source": [
    "@node.route('/blocks', methods=['GET'])\n",
    "def get_blocks():\n",
    "    chain_to_send = blockchain\n",
    "    # Convert our blocks into dictionaries\n",
    "    # so we can send them as json objects later\n",
    "    for block in chain_to_send:\n",
    "        block_index = str(block.index)\n",
    "        block_timestamp = str(block.timestamp)\n",
    "        block_data = str(block.data)\n",
    "        block_hash = block.hash\n",
    "        block = {\n",
    "          \"index\": block_index,\n",
    "          \"timestamp\": block_timestamp,\n",
    "          \"data\": block_data,\n",
    "          \"hash\": block_hash\n",
    "        }\n",
    "    # Send our chain to whomever requested it\n",
    "        chain_to_send = json.dumps(chain_to_send)\n",
    "    return chain_to_send\n",
    "\n",
    "def find_new_chains():\n",
    "    # Get the blockchains of every\n",
    "    # other node\n",
    "    other_chains = []\n",
    "    for node_url in peer_nodes:\n",
    "    # Get their chains using a GET request\n",
    "        block = requests.get(node_url + \"/blocks\").content\n",
    "        # Convert the JSON object to a Python dictionary\n",
    "        block = json.loads(block)\n",
    "        # Add it to our list\n",
    "        other_chains.append(block)\n",
    "    return other_chains\n",
    "\n",
    "def consensus():\n",
    "    # Get the blocks from other nodes\n",
    "    other_chains = find_new_chains()\n",
    "    # If our chain isn't longest,\n",
    "    # then we store the longest chain\n",
    "    longest_chain = blockchain\n",
    "    for chain in other_chains:\n",
    "        if len(longest_chain) < len(chain):\n",
    "            longest_chain = chain\n",
    "    # If the longest chain wasn't ours,\n",
    "    # then we set our chain to the longest\n",
    "            blockchain = longest_chain"
   ]
  },
  {
   "cell_type": "code",
   "execution_count": 16,
   "metadata": {},
   "outputs": [
    {
     "name": "stderr",
     "output_type": "stream",
     "text": [
      " * Running on http://127.0.0.1:5004/ (Press CTRL+C to quit)\n"
     ]
    }
   ],
   "source": [
    "from flask import Flask, render_template, json, request\n",
    "\n",
    "from datetime import datetime\n",
    "from threading import Timer\n",
    "\n",
    "app = Flask(__name__)\n",
    "\n",
    "x=datetime.today()\n",
    "y=x.replace(day=x.day+1, hour=12, minute=52, second=0, microsecond=0)\n",
    "delta_t=y-x\n",
    "\n",
    "secs=delta_t.seconds+1\n",
    "\n",
    "#@app.route('/')\n",
    "\n",
    "def hello_world():\n",
    "    print (\"hello world\")\n",
    "#...\n",
    "\n",
    "t = Timer(secs, hello_world)\n",
    "t.start()\n",
    "\n",
    "\n",
    "if __name__ == \"__main__\":\n",
    "    app.run(port=5004)"
   ]
  },
  {
   "cell_type": "code",
   "execution_count": null,
   "metadata": {
    "collapsed": true
   },
   "outputs": [],
   "source": [
    "curl \"localhost:5000/txion\" -H \"Content-Type: application/json\" -d '{\"from\": \"akjflw\", \"to\":\"fjlakdj\", \"amount\": 3}'"
   ]
  }
 ],
 "metadata": {
  "kernelspec": {
   "display_name": "Python 3",
   "language": "python",
   "name": "python3"
  },
  "language_info": {
   "codemirror_mode": {
    "name": "ipython",
    "version": 3
   },
   "file_extension": ".py",
   "mimetype": "text/x-python",
   "name": "python",
   "nbconvert_exporter": "python",
   "pygments_lexer": "ipython3",
   "version": "3.6.1"
  }
 },
 "nbformat": 4,
 "nbformat_minor": 2
}
