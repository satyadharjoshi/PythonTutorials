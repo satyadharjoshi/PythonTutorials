{
 "cells": [
  {
   "cell_type": "code",
   "execution_count": 1,
   "metadata": {
    "collapsed": true
   },
   "outputs": [],
   "source": [
    "# http://introtopython.org/classes.html\n",
    "\n",
    "class Rocket():\n",
    "    # Rocket simulates a rocket ship for a game,\n",
    "    #  or a physics simulation.\n",
    "    \n",
    "    def __init__(self):\n",
    "        # Each rocket has an (x,y) position.\n",
    "        self.x = 0\n",
    "        self.y = 0"
   ]
  },
  {
   "cell_type": "code",
   "execution_count": 2,
   "metadata": {
    "collapsed": true
   },
   "outputs": [],
   "source": [
    "class Rocket():\n",
    "    # Rocket simulates a rocket ship for a game,\n",
    "    #  or a physics simulation.\n",
    "    \n",
    "    def __init__(self):\n",
    "        # Each rocket has an (x,y) position.\n",
    "        self.x = 0\n",
    "        self.y = 0\n",
    "        \n",
    "    def move_up(self):\n",
    "        # Increment the y-position of the rocket.\n",
    "        self.y += 1"
   ]
  },
  {
   "cell_type": "code",
   "execution_count": 3,
   "metadata": {},
   "outputs": [
    {
     "name": "stdout",
     "output_type": "stream",
     "text": [
      "<__main__.Rocket object at 0x000000BBE9080E48>\n"
     ]
    }
   ],
   "source": [
    "# Create a Rocket object.\n",
    "my_rocket = Rocket()\n",
    "print(my_rocket)"
   ]
  },
  {
   "cell_type": "code",
   "execution_count": 4,
   "metadata": {},
   "outputs": [
    {
     "name": "stdout",
     "output_type": "stream",
     "text": [
      "Rocket altitude: 0\n",
      "Rocket altitude: 1\n",
      "Rocket altitude: 2\n"
     ]
    }
   ],
   "source": [
    "my_rocket = Rocket()\n",
    "print(\"Rocket altitude:\", my_rocket.y)\n",
    "\n",
    "my_rocket.move_up()\n",
    "print(\"Rocket altitude:\", my_rocket.y)\n",
    "\n",
    "my_rocket.move_up()\n",
    "print(\"Rocket altitude:\", my_rocket.y)"
   ]
  },
  {
   "cell_type": "code",
   "execution_count": 5,
   "metadata": {
    "collapsed": true
   },
   "outputs": [],
   "source": [
    "class Rocket():\n",
    "    # Rocket simulates a rocket ship for a game,\n",
    "    #  or a physics simulation.\n",
    "    \n",
    "    def __init__(self, x=0, y=0):\n",
    "        # Each rocket has an (x,y) position.\n",
    "        self.x = x\n",
    "        self.y = y\n",
    "        \n",
    "    def move_up(self):\n",
    "        # Increment the y-position of the rocket.\n",
    "        self.y += 1\n",
    "        \n",
    "# Make a series of rockets at different starting places.\n",
    "rockets = []\n",
    "rockets.append(Rocket())\n",
    "rockets.append(Rocket(0,10))\n",
    "rockets.append(Rocket(100,0))"
   ]
  },
  {
   "cell_type": "code",
   "execution_count": 6,
   "metadata": {},
   "outputs": [
    {
     "name": "stdout",
     "output_type": "stream",
     "text": [
      "Rocket 0 is at (0, 0).\n",
      "Rocket 1 is at (0, 10).\n",
      "Rocket 2 is at (100, 0).\n"
     ]
    }
   ],
   "source": [
    "for index, rocket in enumerate(rockets):\n",
    "    print(\"Rocket %d is at (%d, %d).\" % (index, rocket.x, rocket.y))"
   ]
  },
  {
   "cell_type": "code",
   "execution_count": 7,
   "metadata": {
    "collapsed": true
   },
   "outputs": [],
   "source": [
    "class Rocket():\n",
    "    # Rocket simulates a rocket ship for a game,\n",
    "    #  or a physics simulation.\n",
    "    \n",
    "    def __init__(self, x=0, y=0):\n",
    "        # Each rocket has an (x,y) position.\n",
    "        self.x = x\n",
    "        self.y = y\n",
    "        \n",
    "    def move_rocket(self, x_increment=0, y_increment=1):\n",
    "        # Move the rocket according to the paremeters given.\n",
    "        #  Default behavior is to move the rocket up one unit.\n",
    "        self.x += x_increment\n",
    "        self.y += y_increment\n"
   ]
  },
  {
   "cell_type": "code",
   "execution_count": 8,
   "metadata": {},
   "outputs": [
    {
     "name": "stdout",
     "output_type": "stream",
     "text": [
      "Rocket 0 is at (0, 1).\n",
      "Rocket 1 is at (10, 10).\n",
      "Rocket 2 is at (-10, 0).\n"
     ]
    }
   ],
   "source": [
    "# Create three rockets.\n",
    "rockets = [Rocket() for x in range(0,3)]\n",
    "\n",
    "# Move each rocket a different amount.\n",
    "rockets[0].move_rocket()\n",
    "rockets[1].move_rocket(10,10)\n",
    "rockets[2].move_rocket(-10,0)\n",
    "          \n",
    "# Show where each rocket is.\n",
    "for index, rocket in enumerate(rockets):\n",
    "    print(\"Rocket %d is at (%d, %d).\" % (index, rocket.x, rocket.y))"
   ]
  },
  {
   "cell_type": "code",
   "execution_count": null,
   "metadata": {
    "collapsed": true
   },
   "outputs": [],
   "source": []
  }
 ],
 "metadata": {
  "kernelspec": {
   "display_name": "Python 3",
   "language": "python",
   "name": "python3"
  },
  "language_info": {
   "codemirror_mode": {
    "name": "ipython",
    "version": 3
   },
   "file_extension": ".py",
   "mimetype": "text/x-python",
   "name": "python",
   "nbconvert_exporter": "python",
   "pygments_lexer": "ipython3",
   "version": "3.6.1"
  }
 },
 "nbformat": 4,
 "nbformat_minor": 2
}
